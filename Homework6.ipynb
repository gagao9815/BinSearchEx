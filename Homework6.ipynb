{
  "nbformat": 4,
  "nbformat_minor": 0,
  "metadata": {
    "colab": {
      "provenance": [],
      "authorship_tag": "ABX9TyNcnqDjnKe4nDR8kDviyIRQ",
      "include_colab_link": true
    },
    "kernelspec": {
      "name": "python3",
      "display_name": "Python 3"
    },
    "language_info": {
      "name": "python"
    }
  },
  "cells": [
    {
      "cell_type": "markdown",
      "metadata": {
        "id": "view-in-github",
        "colab_type": "text"
      },
      "source": [
        "<a href=\"https://colab.research.google.com/github/gagao9815/BinSearchEx/blob/master/Homework6.ipynb\" target=\"_parent\"><img src=\"https://colab.research.google.com/assets/colab-badge.svg\" alt=\"Open In Colab\"/></a>"
      ]
    },
    {
      "cell_type": "code",
      "execution_count": null,
      "metadata": {
        "id": "hmUA4fEmvv_Z"
      },
      "outputs": [],
      "source": [
        "#Part1\n",
        "import pandas as pd\n",
        "import numpy as np\n",
        "import statsmodels.api as sm\n",
        "\n",
        "# Load the data\n",
        "df = pd.read_csv('dummy_data.csv')\n",
        "\n",
        "# Create dummy variables for income\n",
        "income_dummies = pd.get_dummies(df['income'], drop_first=True)\n",
        "df = pd.concat([df, income_dummies], axis=1)\n",
        "\n",
        "# Define the model formula\n",
        "formula = 'time_spent ~ C(income)'\n",
        "\n",
        "# Fit the model\n",
        "model = sm.formula.glm(formula, family=sm.families.Binomial(), data=df).fit()\n",
        "\n",
        "# Print the model summary\n",
        "print(model.summary())\n"
      ]
    },
    {
      "cell_type": "code",
      "source": [
        "import pymc as pm\n",
        "\n",
        "\n",
        "# Preprocess data\n",
        "median_income = df['income'].median()\n",
        "df['income_binary'] = (df['income'] > median_income).astype(int)\n",
        "X = df[['time_spent']].values\n",
        "y = df['income_binary'].values\n",
        "\n",
        "# Model setup\n",
        "with pm.Model() as logistic_model:\n",
        "    intercept = pm.Normal('Intercept', 0, sigma=20)\n",
        "    time_spent_coef = pm.Normal('time_spent', 0, sigma=20)\n",
        "    σ = pm.HalfNormal('σ', sigma=10)\n",
        "\n",
        "    # Linear model\n",
        "    likelihood = pm.Bernoulli('y', pm.math.sigmoid(intercept + time_spent_coef * X[:, 0]), observed=y)\n",
        "\n",
        "    # Sampling\n",
        "    trace = pm.sample(1000, tune=1000, target_accept=0.95, return_inferencedata=True)\n"
      ],
      "metadata": {
        "colab": {
          "base_uri": "https://localhost:8080/",
          "height": 57
        },
        "id": "pJgzuaDfyRBF",
        "outputId": "541929c6-9192-4318-e47b-94ebd63c98de"
      },
      "execution_count": 11,
      "outputs": [
        {
          "output_type": "display_data",
          "data": {
            "text/plain": [
              "<IPython.core.display.HTML object>"
            ],
            "text/html": [
              "\n",
              "<style>\n",
              "    /* Turns off some styling */\n",
              "    progress {\n",
              "        /* gets rid of default border in Firefox and Opera. */\n",
              "        border: none;\n",
              "        /* Needs to be in here for Safari polyfill so background images work as expected. */\n",
              "        background-size: auto;\n",
              "    }\n",
              "    progress:not([value]), progress:not([value])::-webkit-progress-bar {\n",
              "        background: repeating-linear-gradient(45deg, #7e7e7e, #7e7e7e 10px, #5c5c5c 10px, #5c5c5c 20px);\n",
              "    }\n",
              "    .progress-bar-interrupted, .progress-bar-interrupted::-webkit-progress-bar {\n",
              "        background: #F44336;\n",
              "    }\n",
              "</style>\n"
            ]
          },
          "metadata": {}
        },
        {
          "output_type": "display_data",
          "data": {
            "text/plain": [
              "<IPython.core.display.HTML object>"
            ],
            "text/html": [
              "\n",
              "    <div>\n",
              "      <progress value='2000' class='' max='2000' style='width:300px; height:20px; vertical-align: middle;'></progress>\n",
              "      100.00% [2000/2000 00:09&lt;00:00 Sampling chain 0, 0 divergences]\n",
              "    </div>\n",
              "    "
            ]
          },
          "metadata": {}
        },
        {
          "output_type": "display_data",
          "data": {
            "text/plain": [
              "<IPython.core.display.HTML object>"
            ],
            "text/html": [
              "\n",
              "<style>\n",
              "    /* Turns off some styling */\n",
              "    progress {\n",
              "        /* gets rid of default border in Firefox and Opera. */\n",
              "        border: none;\n",
              "        /* Needs to be in here for Safari polyfill so background images work as expected. */\n",
              "        background-size: auto;\n",
              "    }\n",
              "    progress:not([value]), progress:not([value])::-webkit-progress-bar {\n",
              "        background: repeating-linear-gradient(45deg, #7e7e7e, #7e7e7e 10px, #5c5c5c 10px, #5c5c5c 20px);\n",
              "    }\n",
              "    .progress-bar-interrupted, .progress-bar-interrupted::-webkit-progress-bar {\n",
              "        background: #F44336;\n",
              "    }\n",
              "</style>\n"
            ]
          },
          "metadata": {}
        },
        {
          "output_type": "display_data",
          "data": {
            "text/plain": [
              "<IPython.core.display.HTML object>"
            ],
            "text/html": [
              "\n",
              "    <div>\n",
              "      <progress value='2000' class='' max='2000' style='width:300px; height:20px; vertical-align: middle;'></progress>\n",
              "      100.00% [2000/2000 00:08&lt;00:00 Sampling chain 1, 0 divergences]\n",
              "    </div>\n",
              "    "
            ]
          },
          "metadata": {}
        }
      ]
    },
    {
      "cell_type": "code",
      "source": [
        "# Transform 'income' into a binary outcome for illustration\n",
        "median_income = df['income'].median()\n",
        "df['income_binary'] = (df['income'] > median_income).astype(int)\n",
        "\n",
        "# Predictor and outcome\n",
        "X = df['time_spent'].values\n",
        "y = df['income_binary'].values\n",
        "\n",
        "with pm.Model() as logistic_model:\n",
        "    # Priors\n",
        "    intercept = pm.Normal('Intercept', mu=0, sigma=10)  # Weakly informative prior for the intercept\n",
        "    time_spent_coef = pm.Normal('time_spent_coef', mu=0, sigma=10)  # Weakly informative prior for the coefficient\n",
        "\n",
        "    # Linear combination of predictors and logit link function\n",
        "    logits = intercept + time_spent_coef * X\n",
        "\n",
        "    # Likelihood (Bernoulli observed outcomes)\n",
        "    outcome = pm.Bernoulli('outcome', pm.math.sigmoid(logits), observed=y)\n",
        "\n",
        "    # Sampling\n",
        "    trace = pm.sample(1000, tune=1000, target_accept=0.95, return_inferencedata=True)\n"
      ],
      "metadata": {
        "colab": {
          "base_uri": "https://localhost:8080/",
          "height": 57
        },
        "id": "IIvVrs6M2VwT",
        "outputId": "820cd2d3-bb1c-44c5-c660-d0c87e5d4378"
      },
      "execution_count": 12,
      "outputs": [
        {
          "output_type": "display_data",
          "data": {
            "text/plain": [
              "<IPython.core.display.HTML object>"
            ],
            "text/html": [
              "\n",
              "<style>\n",
              "    /* Turns off some styling */\n",
              "    progress {\n",
              "        /* gets rid of default border in Firefox and Opera. */\n",
              "        border: none;\n",
              "        /* Needs to be in here for Safari polyfill so background images work as expected. */\n",
              "        background-size: auto;\n",
              "    }\n",
              "    progress:not([value]), progress:not([value])::-webkit-progress-bar {\n",
              "        background: repeating-linear-gradient(45deg, #7e7e7e, #7e7e7e 10px, #5c5c5c 10px, #5c5c5c 20px);\n",
              "    }\n",
              "    .progress-bar-interrupted, .progress-bar-interrupted::-webkit-progress-bar {\n",
              "        background: #F44336;\n",
              "    }\n",
              "</style>\n"
            ]
          },
          "metadata": {}
        },
        {
          "output_type": "display_data",
          "data": {
            "text/plain": [
              "<IPython.core.display.HTML object>"
            ],
            "text/html": [
              "\n",
              "    <div>\n",
              "      <progress value='2000' class='' max='2000' style='width:300px; height:20px; vertical-align: middle;'></progress>\n",
              "      100.00% [2000/2000 00:05&lt;00:00 Sampling chain 0, 0 divergences]\n",
              "    </div>\n",
              "    "
            ]
          },
          "metadata": {}
        },
        {
          "output_type": "display_data",
          "data": {
            "text/plain": [
              "<IPython.core.display.HTML object>"
            ],
            "text/html": [
              "\n",
              "<style>\n",
              "    /* Turns off some styling */\n",
              "    progress {\n",
              "        /* gets rid of default border in Firefox and Opera. */\n",
              "        border: none;\n",
              "        /* Needs to be in here for Safari polyfill so background images work as expected. */\n",
              "        background-size: auto;\n",
              "    }\n",
              "    progress:not([value]), progress:not([value])::-webkit-progress-bar {\n",
              "        background: repeating-linear-gradient(45deg, #7e7e7e, #7e7e7e 10px, #5c5c5c 10px, #5c5c5c 20px);\n",
              "    }\n",
              "    .progress-bar-interrupted, .progress-bar-interrupted::-webkit-progress-bar {\n",
              "        background: #F44336;\n",
              "    }\n",
              "</style>\n"
            ]
          },
          "metadata": {}
        },
        {
          "output_type": "display_data",
          "data": {
            "text/plain": [
              "<IPython.core.display.HTML object>"
            ],
            "text/html": [
              "\n",
              "    <div>\n",
              "      <progress value='2000' class='' max='2000' style='width:300px; height:20px; vertical-align: middle;'></progress>\n",
              "      100.00% [2000/2000 00:06&lt;00:00 Sampling chain 1, 0 divergences]\n",
              "    </div>\n",
              "    "
            ]
          },
          "metadata": {}
        }
      ]
    },
    {
      "cell_type": "code",
      "source": [
        "#Part2\n",
        "from sklearn.linear_model import Ridge, Lasso\n",
        "\n",
        "# Generate some random data\n",
        "X = np.random.rand(100, 1)\n",
        "y = 2*X + np.random.randn(100)\n",
        "\n",
        "# Define the models\n",
        "ridge = Ridge(alpha=10)\n",
        "lasso = Lasso(alpha=0.1)\n",
        "\n",
        "# Fit the models\n",
        "ridge.fit(X, y)\n",
        "lasso.fit(X, y)\n",
        "\n",
        "# Print the coefficients\n",
        "print(\"Ridge coefficients:\", ridge.coef_)\n",
        "print(\"Lasso coefficients:\", lasso.coef_)\n",
        "\n",
        "# Plot the coefficients\n",
        "import matplotlib.pyplot as plt\n",
        "\n",
        "plt.plot(X, y, 'b.')\n",
        "plt.plot(X, ridge.predict(X), 'r-', label='Ridge')\n",
        "plt.plot(X, lasso.predict(X), 'g-', label='Lasso')\n",
        "plt.legend()\n",
        "plt.show()\n",
        "\n",
        "\n",
        "#Bayesians do not optimize posterior distributions, they sample from them; but, the posterior distributions are nonetheless 'regularizations' of the likelihood through the prior."
      ],
      "metadata": {
        "colab": {
          "base_uri": "https://localhost:8080/"
        },
        "id": "J6f-jGWK3583",
        "outputId": "607959b0-fa4e-4383-ee13-ec826a854e2c"
      },
      "execution_count": 16,
      "outputs": [
        {
          "output_type": "stream",
          "name": "stdout",
          "text": [
            "Ridge coefficients: [0.00163166]\n",
            "Lasso coefficients: [0.]\n"
          ]
        }
      ]
    },
    {
      "cell_type": "code",
      "source": [
        "#Part3\n",
        "import arviz as az\n",
        "\n",
        "\n",
        "# Preparing the data\n",
        "X = df['time_spent'].values[:, None]  # Predictor\n",
        "y = df['income'].values  # Outcome\n",
        "n = len(y)\n",
        "\n",
        "# Model parameters\n",
        "ν = 5  # Degrees of freedom for the Student's t-distribution, adjust based on your preference\n",
        "w = np.std(y)  # Scale parameter based on data's standard deviation, adjust as necessary\n",
        "\n",
        "with pm.Model() as robust_regression_model:\n",
        "    # Priors\n",
        "    Intercept = pm.Normal('Intercept', mu=0, sigma=10)\n",
        "    β = pm.Normal('β', mu=0, sigma=10, shape=X.shape[1])  # Adjust shape based on the number of predictors\n",
        "    μ = Intercept + pm.math.dot(X, β)\n",
        "\n",
        "    # Student's t-distribution for the likelihood\n",
        "    y_obs = pm.StudentT('y_obs', nu=ν, mu=μ, sigma=w, observed=y)\n",
        "\n",
        "    # Inference\n",
        "    trace = pm.sample(1000, tune=1000, target_accept=0.95, return_inferencedata=True)\n",
        "\n",
        "# Optional: Summary of the posterior\n",
        "summary = az.summary(trace)\n",
        "print(summary)\n"
      ],
      "metadata": {
        "colab": {
          "base_uri": "https://localhost:8080/",
          "height": 182
        },
        "id": "2jqo-9dsAZCu",
        "outputId": "3bfa619d-7322-4402-c553-4472e9781d3d"
      },
      "execution_count": 18,
      "outputs": [
        {
          "output_type": "display_data",
          "data": {
            "text/plain": [
              "<IPython.core.display.HTML object>"
            ],
            "text/html": [
              "\n",
              "<style>\n",
              "    /* Turns off some styling */\n",
              "    progress {\n",
              "        /* gets rid of default border in Firefox and Opera. */\n",
              "        border: none;\n",
              "        /* Needs to be in here for Safari polyfill so background images work as expected. */\n",
              "        background-size: auto;\n",
              "    }\n",
              "    progress:not([value]), progress:not([value])::-webkit-progress-bar {\n",
              "        background: repeating-linear-gradient(45deg, #7e7e7e, #7e7e7e 10px, #5c5c5c 10px, #5c5c5c 20px);\n",
              "    }\n",
              "    .progress-bar-interrupted, .progress-bar-interrupted::-webkit-progress-bar {\n",
              "        background: #F44336;\n",
              "    }\n",
              "</style>\n"
            ]
          },
          "metadata": {}
        },
        {
          "output_type": "display_data",
          "data": {
            "text/plain": [
              "<IPython.core.display.HTML object>"
            ],
            "text/html": [
              "\n",
              "    <div>\n",
              "      <progress value='2000' class='' max='2000' style='width:300px; height:20px; vertical-align: middle;'></progress>\n",
              "      100.00% [2000/2000 00:03&lt;00:00 Sampling chain 0, 0 divergences]\n",
              "    </div>\n",
              "    "
            ]
          },
          "metadata": {}
        },
        {
          "output_type": "display_data",
          "data": {
            "text/plain": [
              "<IPython.core.display.HTML object>"
            ],
            "text/html": [
              "\n",
              "<style>\n",
              "    /* Turns off some styling */\n",
              "    progress {\n",
              "        /* gets rid of default border in Firefox and Opera. */\n",
              "        border: none;\n",
              "        /* Needs to be in here for Safari polyfill so background images work as expected. */\n",
              "        background-size: auto;\n",
              "    }\n",
              "    progress:not([value]), progress:not([value])::-webkit-progress-bar {\n",
              "        background: repeating-linear-gradient(45deg, #7e7e7e, #7e7e7e 10px, #5c5c5c 10px, #5c5c5c 20px);\n",
              "    }\n",
              "    .progress-bar-interrupted, .progress-bar-interrupted::-webkit-progress-bar {\n",
              "        background: #F44336;\n",
              "    }\n",
              "</style>\n"
            ]
          },
          "metadata": {}
        },
        {
          "output_type": "display_data",
          "data": {
            "text/plain": [
              "<IPython.core.display.HTML object>"
            ],
            "text/html": [
              "\n",
              "    <div>\n",
              "      <progress value='2000' class='' max='2000' style='width:300px; height:20px; vertical-align: middle;'></progress>\n",
              "      100.00% [2000/2000 00:02&lt;00:00 Sampling chain 1, 0 divergences]\n",
              "    </div>\n",
              "    "
            ]
          },
          "metadata": {}
        },
        {
          "output_type": "stream",
          "name": "stdout",
          "text": [
            "              mean      sd   hdi_3%  hdi_97%  mcse_mean  mcse_sd  ess_bulk  \\\n",
            "Intercept   35.030  10.200   16.574   55.248      0.280    0.198    1343.0   \n",
            "β[0]       178.828  10.042  160.686  198.025      0.288    0.204    1222.0   \n",
            "\n",
            "           ess_tail  r_hat  \n",
            "Intercept    1092.0    1.0  \n",
            "β[0]         1142.0    1.0  \n"
          ]
        }
      ]
    },
    {
      "cell_type": "code",
      "source": [
        "X = df['time_spent'].values[:, None]  # Predictor\n",
        "y = df['income'].values  # Outcome\n",
        "n = len(y)\n",
        "\n",
        "with pm.Model() as model:\n",
        "    # Model parameters\n",
        "    ν = 5  # Degrees of freedom, assuming fixed based on earlier model\n",
        "    alpha = ν / 2\n",
        "    beta = ν / 2\n",
        "\n",
        "    # Priors\n",
        "    Intercept = pm.Normal('Intercept', mu=0, sigma=10)\n",
        "    β = pm.Normal('β', mu=0, sigma=10, shape=X.shape[1])  # Adjust shape for the number of predictors\n",
        "    μ = Intercept + pm.math.dot(X, β)\n",
        "\n",
        "    # Prior for the precision parameters (lambda_i^(-2))\n",
        "    λ_inv_squared = pm.Gamma('λ_inv_squared', alpha=alpha, beta=beta, shape=n)\n",
        "    λ = pm.Deterministic('λ', 1 / pm.math.sqrt(λ_inv_squared))  # Transform to lambda_i\n",
        "\n",
        "    # Normal likelihood with precision parameter\n",
        "    y_obs = pm.Normal('y_obs', mu=μ, sigma=1/λ, observed=y)\n",
        "\n",
        "    # Sample from the posterior\n",
        "    trace = pm.sample(1000, tune=1000, target_accept=0.95, return_inferencedata=True)\n",
        "\n",
        "# Posterior analysis to identify outliers\n",
        "# Lower lambda_i values indicate higher variance and potential outliers\n",
        "λ_posterior_means = np.mean(trace.posterior['λ'].values, axis=(0, 1))\n",
        "outlier_threshold = np.percentile(λ_posterior_means, 25)  # Adjust threshold as needed\n",
        "outliers = np.where(λ_posterior_means < outlier_threshold)[0]\n",
        "\n",
        "print(f\"Potential Outliers (0-indexed): {outliers}\")\n"
      ],
      "metadata": {
        "colab": {
          "base_uri": "https://localhost:8080/",
          "height": 307
        },
        "id": "DtF2hrVFCNR1",
        "outputId": "57d538ff-4569-416c-8328-f725c02c5aa5"
      },
      "execution_count": 20,
      "outputs": [
        {
          "output_type": "display_data",
          "data": {
            "text/plain": [
              "<IPython.core.display.HTML object>"
            ],
            "text/html": [
              "\n",
              "<style>\n",
              "    /* Turns off some styling */\n",
              "    progress {\n",
              "        /* gets rid of default border in Firefox and Opera. */\n",
              "        border: none;\n",
              "        /* Needs to be in here for Safari polyfill so background images work as expected. */\n",
              "        background-size: auto;\n",
              "    }\n",
              "    progress:not([value]), progress:not([value])::-webkit-progress-bar {\n",
              "        background: repeating-linear-gradient(45deg, #7e7e7e, #7e7e7e 10px, #5c5c5c 10px, #5c5c5c 20px);\n",
              "    }\n",
              "    .progress-bar-interrupted, .progress-bar-interrupted::-webkit-progress-bar {\n",
              "        background: #F44336;\n",
              "    }\n",
              "</style>\n"
            ]
          },
          "metadata": {}
        },
        {
          "output_type": "display_data",
          "data": {
            "text/plain": [
              "<IPython.core.display.HTML object>"
            ],
            "text/html": [
              "\n",
              "    <div>\n",
              "      <progress value='2000' class='' max='2000' style='width:300px; height:20px; vertical-align: middle;'></progress>\n",
              "      100.00% [2000/2000 04:48&lt;00:00 Sampling chain 0, 3 divergences]\n",
              "    </div>\n",
              "    "
            ]
          },
          "metadata": {}
        },
        {
          "output_type": "display_data",
          "data": {
            "text/plain": [
              "<IPython.core.display.HTML object>"
            ],
            "text/html": [
              "\n",
              "<style>\n",
              "    /* Turns off some styling */\n",
              "    progress {\n",
              "        /* gets rid of default border in Firefox and Opera. */\n",
              "        border: none;\n",
              "        /* Needs to be in here for Safari polyfill so background images work as expected. */\n",
              "        background-size: auto;\n",
              "    }\n",
              "    progress:not([value]), progress:not([value])::-webkit-progress-bar {\n",
              "        background: repeating-linear-gradient(45deg, #7e7e7e, #7e7e7e 10px, #5c5c5c 10px, #5c5c5c 20px);\n",
              "    }\n",
              "    .progress-bar-interrupted, .progress-bar-interrupted::-webkit-progress-bar {\n",
              "        background: #F44336;\n",
              "    }\n",
              "</style>\n"
            ]
          },
          "metadata": {}
        },
        {
          "output_type": "display_data",
          "data": {
            "text/plain": [
              "<IPython.core.display.HTML object>"
            ],
            "text/html": [
              "\n",
              "    <div>\n",
              "      <progress value='2000' class='' max='2000' style='width:300px; height:20px; vertical-align: middle;'></progress>\n",
              "      100.00% [2000/2000 04:17&lt;00:00 Sampling chain 1, 133 divergences]\n",
              "    </div>\n",
              "    "
            ]
          },
          "metadata": {}
        },
        {
          "output_type": "stream",
          "name": "stdout",
          "text": [
            "Potential Outliers (0-indexed): [  0   5  11  20  23  26  33  41  45  48  50  51  52  55  57  61  64  66\n",
            "  68  70  71  73  75  76  78  86  87  88  90  93  94  97 117 118 121 123\n",
            " 124 128 132 133 134 135 136 137 138 142 144 150 153 167 170 178 179 184\n",
            " 188 195 202 205 208 209 216 218 221 224 233 237 239 250 252 255 260 263\n",
            " 264 270 275 276 280 281 282 287 289 295 297 298 301 304 310 314 326 328\n",
            " 332 337 339 343 348 351 357 361 362 363 366 369 383 386 387 399 400 405\n",
            " 406 409 414 423 424 427 431 434 438 439 452 459 463 473 474 475 476 480\n",
            " 483 488 490 491 493 497 503 506 508 510 518 519 522 525 531 540 542 543\n",
            " 547 549 551 552 553 554 558 560 563 567 568 577 581 587 588 597 608 610\n",
            " 623 627 628 630 631 634 636 643 647 652 664 667 668 671 679 681 690 693\n",
            " 699 704 715 718 720 721 722 724 728 730 734 736 744 745 747 749 763 775\n",
            " 780 781 783 784 788 790 796 810 813 817 825 831 832 833 835 836 838 839\n",
            " 841 851 855 860 869 879 883 884 886 887 893 894 898 908 917 919 922 924\n",
            " 933 937 938 942 947 950 952 957 960 970 971 977 980 983 984 993]\n"
          ]
        }
      ]
    }
  ]
}