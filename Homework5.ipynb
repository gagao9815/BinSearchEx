{
  "nbformat": 4,
  "nbformat_minor": 0,
  "metadata": {
    "colab": {
      "provenance": [],
      "authorship_tag": "ABX9TyMrbCiNCFrkPpNdDTZin1Q9",
      "include_colab_link": true
    },
    "kernelspec": {
      "name": "python3",
      "display_name": "Python 3"
    },
    "language_info": {
      "name": "python"
    }
  },
  "cells": [
    {
      "cell_type": "markdown",
      "metadata": {
        "id": "view-in-github",
        "colab_type": "text"
      },
      "source": [
        "<a href=\"https://colab.research.google.com/github/gagao9815/BinSearchEx/blob/master/Homework5.ipynb\" target=\"_parent\"><img src=\"https://colab.research.google.com/assets/colab-badge.svg\" alt=\"Open In Colab\"/></a>"
      ]
    },
    {
      "cell_type": "code",
      "execution_count": null,
      "metadata": {
        "id": "hJRRJBinosk_"
      },
      "outputs": [],
      "source": [
        "from google.colab import files\n",
        "files.upload()"
      ]
    },
    {
      "cell_type": "code",
      "source": [
        "import pandas as pd\n",
        "import numpy as np\n",
        "import pymc as pm\n",
        "\n",
        "# Load the dataset\n",
        "data = pd.read_csv('/content/covid19.csv')\n",
        "\n",
        "# Assuming the '8/16/2021' column is your target variable and others are predictors\n",
        "# We'll exclude non-numeric columns or identifiers as needed\n",
        "y = data['8/16/2021'].values\n",
        "X_columns = [col for col in data.columns if col != '8/16/2021' and data[col].dtype in [np.int64, np.float64]]\n",
        "X = data[X_columns].values\n",
        "\n",
        "with pm.Model() as MLR:\n",
        "    # Priors\n",
        "    betas = pm.Normal('betas', mu=0, sigma=10, shape=p)\n",
        "    sigma = pm.HalfNormal('sigma', sigma=1)\n",
        "\n",
        "    # Likelihood\n",
        "    y_est = pm.math.dot(X, betas)\n",
        "    y_obs = pm.Normal('y_obs', mu=y_est, sigma=sigma, observed=y)\n",
        "\n",
        "\n",
        "with MLR:\n",
        "    # Sample\n",
        "    trace = pm.sample(500, tune=500, init='jitter+adapt_diag', target_accept=0.95, return_inferencedata=True)\n",
        "\n",
        "print(pm.summary(trace))\n",
        "\n"
      ],
      "metadata": {
        "id": "5LNwAyWfw6lA"
      },
      "execution_count": null,
      "outputs": []
    },
    {
      "cell_type": "code",
      "source": [
        "import pymc as pm\n",
        "import numpy as np\n",
        "\n",
        "# Assuming X and y are already defined\n",
        "n, p = X.shape\n",
        "\n",
        "with pm.Model() as MLR:\n",
        "    # Priors for regression coefficients\n",
        "    betas = pm.Normal('betas', mu=0, sigma=10, shape=p)\n",
        "\n",
        "    # Experiment with different distributions for sigma\n",
        "    # Half-Normal prior for sigma\n",
        "    sigma_half_normal = pm.HalfNormal('sigma_half_normal', sigma=5)\n",
        "\n",
        "    # Half-Cauchy prior for sigma\n",
        "    sigma_half_cauchy = pm.HalfCauchy('sigma_half_cauchy', beta=5)\n",
        "\n",
        "    # Choose one of the sigmas for the model based on your preference or testing\n",
        "    sigma = sigma_half_normal  # You can switch to sigma_half_cauchy\n",
        "\n",
        "    # Likelihood\n",
        "    y_obs = pm.Normal('y_obs', mu=pm.math.dot(X, betas), sigma=sigma, observed=y)\n",
        "\n",
        "    # Sampling\n",
        "    trace = pm.sample(500, tune=500, target_accept=0.95, return_inferencedata=True)\n",
        "\n"
      ],
      "metadata": {
        "id": "UNmbnhn2PiWO"
      },
      "execution_count": null,
      "outputs": []
    },
    {
      "cell_type": "code",
      "source": [],
      "metadata": {
        "id": "pKmq4w8nRmpY"
      },
      "execution_count": null,
      "outputs": []
    }
  ]
}